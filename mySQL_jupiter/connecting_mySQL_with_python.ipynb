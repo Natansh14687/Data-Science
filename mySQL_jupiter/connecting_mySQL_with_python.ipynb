{
 "cells": [
  {
   "cell_type": "code",
   "execution_count": 1,
   "id": "923f1d2d",
   "metadata": {},
   "outputs": [
    {
     "name": "stdout",
     "output_type": "stream",
     "text": [
      "Collecting mysql-connector-python\n",
      "  Obtaining dependency information for mysql-connector-python from https://files.pythonhosted.org/packages/d9/91/007a0d60fee8db4f7385075dc50bf62d2d359b417b374ec06b06ce6c2d64/mysql_connector_python-8.3.0-cp311-cp311-win_amd64.whl.metadata\n",
      "  Downloading mysql_connector_python-8.3.0-cp311-cp311-win_amd64.whl.metadata (2.0 kB)\n",
      "Downloading mysql_connector_python-8.3.0-cp311-cp311-win_amd64.whl (15.4 MB)\n",
      "   ---------------------------------------- 0.0/15.4 MB ? eta -:--:--\n",
      "   ---------------------------------------- 0.0/15.4 MB ? eta -:--:--\n",
      "   ---------------------------------------- 0.0/15.4 MB 325.1 kB/s eta 0:00:48\n",
      "   ---------------------------------------- 0.1/15.4 MB 744.7 kB/s eta 0:00:21\n",
      "    --------------------------------------- 0.3/15.4 MB 1.5 MB/s eta 0:00:10\n",
      "   - -------------------------------------- 0.6/15.4 MB 2.5 MB/s eta 0:00:06\n",
      "   -- ------------------------------------- 1.1/15.4 MB 4.3 MB/s eta 0:00:04\n",
      "   --- ------------------------------------ 1.3/15.4 MB 4.5 MB/s eta 0:00:04\n",
      "   --- ------------------------------------ 1.3/15.4 MB 4.5 MB/s eta 0:00:04\n",
      "   --- ------------------------------------ 1.5/15.4 MB 3.9 MB/s eta 0:00:04\n",
      "   ---- ----------------------------------- 1.7/15.4 MB 3.5 MB/s eta 0:00:04\n",
      "   ---- ----------------------------------- 1.9/15.4 MB 3.6 MB/s eta 0:00:04\n",
      "   ----- ---------------------------------- 2.1/15.4 MB 3.7 MB/s eta 0:00:04\n",
      "   ------ --------------------------------- 2.3/15.4 MB 3.8 MB/s eta 0:00:04\n",
      "   ------ --------------------------------- 2.6/15.4 MB 3.9 MB/s eta 0:00:04\n",
      "   -------- ------------------------------- 3.2/15.4 MB 4.6 MB/s eta 0:00:03\n",
      "   -------- ------------------------------- 3.2/15.4 MB 4.6 MB/s eta 0:00:03\n",
      "   -------- ------------------------------- 3.4/15.4 MB 4.3 MB/s eta 0:00:03\n",
      "   --------- ------------------------------ 3.6/15.4 MB 4.3 MB/s eta 0:00:03\n",
      "   --------- ------------------------------ 3.8/15.4 MB 4.3 MB/s eta 0:00:03\n",
      "   ---------- ----------------------------- 3.9/15.4 MB 4.2 MB/s eta 0:00:03\n",
      "   ---------- ----------------------------- 4.0/15.4 MB 4.0 MB/s eta 0:00:03\n",
      "   ---------- ----------------------------- 4.1/15.4 MB 3.9 MB/s eta 0:00:03\n",
      "   ---------- ----------------------------- 4.2/15.4 MB 3.8 MB/s eta 0:00:03\n",
      "   ------------ --------------------------- 4.8/15.4 MB 4.2 MB/s eta 0:00:03\n",
      "   ------------- -------------------------- 5.1/15.4 MB 4.3 MB/s eta 0:00:03\n",
      "   ------------- -------------------------- 5.1/15.4 MB 4.3 MB/s eta 0:00:03\n",
      "   -------------- ------------------------- 5.5/15.4 MB 4.2 MB/s eta 0:00:03\n",
      "   -------------- ------------------------- 5.7/15.4 MB 4.2 MB/s eta 0:00:03\n",
      "   --------------- ------------------------ 5.9/15.4 MB 4.3 MB/s eta 0:00:03\n",
      "   ---------------- ----------------------- 6.3/15.4 MB 4.4 MB/s eta 0:00:03\n",
      "   ---------------- ----------------------- 6.5/15.4 MB 4.4 MB/s eta 0:00:03\n",
      "   ----------------- ---------------------- 6.7/15.4 MB 4.4 MB/s eta 0:00:03\n",
      "   ----------------- ---------------------- 6.7/15.4 MB 4.4 MB/s eta 0:00:02\n",
      "   ----------------- ---------------------- 6.8/15.4 MB 4.2 MB/s eta 0:00:03\n",
      "   ------------------- -------------------- 7.3/15.4 MB 4.4 MB/s eta 0:00:02\n",
      "   ------------------- -------------------- 7.6/15.4 MB 4.4 MB/s eta 0:00:02\n",
      "   -------------------- ------------------- 7.9/15.4 MB 4.5 MB/s eta 0:00:02\n",
      "   --------------------- ------------------ 8.1/15.4 MB 4.5 MB/s eta 0:00:02\n",
      "   --------------------- ------------------ 8.3/15.4 MB 4.5 MB/s eta 0:00:02\n",
      "   --------------------- ------------------ 8.4/15.4 MB 4.5 MB/s eta 0:00:02\n",
      "   ---------------------- ----------------- 8.6/15.4 MB 4.4 MB/s eta 0:00:02\n",
      "   ---------------------- ----------------- 8.7/15.4 MB 4.4 MB/s eta 0:00:02\n",
      "   ---------------------- ----------------- 8.9/15.4 MB 4.3 MB/s eta 0:00:02\n",
      "   ----------------------- ---------------- 8.9/15.4 MB 4.3 MB/s eta 0:00:02\n",
      "   ----------------------- ---------------- 9.0/15.4 MB 4.2 MB/s eta 0:00:02\n",
      "   ----------------------- ---------------- 9.1/15.4 MB 4.2 MB/s eta 0:00:02\n",
      "   ------------------------ --------------- 9.2/15.4 MB 4.2 MB/s eta 0:00:02\n",
      "   ------------------------ --------------- 9.4/15.4 MB 4.1 MB/s eta 0:00:02\n",
      "   ------------------------ --------------- 9.5/15.4 MB 4.1 MB/s eta 0:00:02\n",
      "   ------------------------ --------------- 9.6/15.4 MB 4.1 MB/s eta 0:00:02\n",
      "   ------------------------- -------------- 9.7/15.4 MB 4.0 MB/s eta 0:00:02\n",
      "   ------------------------- -------------- 9.8/15.4 MB 4.0 MB/s eta 0:00:02\n",
      "   ------------------------- -------------- 10.0/15.4 MB 4.0 MB/s eta 0:00:02\n",
      "   -------------------------- ------------- 10.1/15.4 MB 3.9 MB/s eta 0:00:02\n",
      "   -------------------------- ------------- 10.1/15.4 MB 3.9 MB/s eta 0:00:02\n",
      "   -------------------------- ------------- 10.3/15.4 MB 4.0 MB/s eta 0:00:02\n",
      "   -------------------------- ------------- 10.4/15.4 MB 4.0 MB/s eta 0:00:02\n",
      "   --------------------------- ------------ 10.4/15.4 MB 4.0 MB/s eta 0:00:02\n",
      "   --------------------------- ------------ 10.5/15.4 MB 3.9 MB/s eta 0:00:02\n",
      "   --------------------------- ------------ 10.7/15.4 MB 3.9 MB/s eta 0:00:02\n",
      "   --------------------------- ------------ 10.8/15.4 MB 3.8 MB/s eta 0:00:02\n",
      "   ---------------------------- ----------- 10.9/15.4 MB 3.8 MB/s eta 0:00:02\n",
      "   ---------------------------- ----------- 11.0/15.4 MB 3.7 MB/s eta 0:00:02\n",
      "   ---------------------------- ----------- 11.0/15.4 MB 3.6 MB/s eta 0:00:02\n",
      "   ---------------------------- ----------- 11.1/15.4 MB 3.6 MB/s eta 0:00:02\n",
      "   ----------------------------- ---------- 11.2/15.4 MB 3.6 MB/s eta 0:00:02\n",
      "   ----------------------------- ---------- 11.3/15.4 MB 3.5 MB/s eta 0:00:02\n",
      "   ----------------------------- ---------- 11.4/15.4 MB 3.5 MB/s eta 0:00:02\n",
      "   ----------------------------- ---------- 11.5/15.4 MB 3.4 MB/s eta 0:00:02\n",
      "   ------------------------------ --------- 11.6/15.4 MB 3.5 MB/s eta 0:00:02\n",
      "   ------------------------------ --------- 11.7/15.4 MB 3.5 MB/s eta 0:00:02\n",
      "   ------------------------------ --------- 11.8/15.4 MB 3.5 MB/s eta 0:00:02\n",
      "   ------------------------------ --------- 11.9/15.4 MB 3.4 MB/s eta 0:00:02\n",
      "   ------------------------------- -------- 12.0/15.4 MB 3.4 MB/s eta 0:00:02\n",
      "   ------------------------------- -------- 12.1/15.4 MB 3.4 MB/s eta 0:00:01\n",
      "   ------------------------------- -------- 12.2/15.4 MB 3.3 MB/s eta 0:00:01\n",
      "   ------------------------------- -------- 12.3/15.4 MB 3.3 MB/s eta 0:00:01\n",
      "   -------------------------------- ------- 12.3/15.4 MB 3.3 MB/s eta 0:00:01\n",
      "   -------------------------------- ------- 12.4/15.4 MB 3.2 MB/s eta 0:00:01\n",
      "   -------------------------------- ------- 12.5/15.4 MB 3.2 MB/s eta 0:00:01\n",
      "   -------------------------------- ------- 12.6/15.4 MB 3.2 MB/s eta 0:00:01\n",
      "   -------------------------------- ------- 12.7/15.4 MB 3.1 MB/s eta 0:00:01\n",
      "   --------------------------------- ------ 12.8/15.4 MB 3.1 MB/s eta 0:00:01\n",
      "   --------------------------------- ------ 12.9/15.4 MB 3.1 MB/s eta 0:00:01\n",
      "   --------------------------------- ------ 13.0/15.4 MB 3.0 MB/s eta 0:00:01\n",
      "   --------------------------------- ------ 13.1/15.4 MB 3.0 MB/s eta 0:00:01\n",
      "   ---------------------------------- ----- 13.2/15.4 MB 3.0 MB/s eta 0:00:01\n",
      "   ---------------------------------- ----- 13.2/15.4 MB 2.9 MB/s eta 0:00:01\n",
      "   ---------------------------------- ----- 13.3/15.4 MB 2.9 MB/s eta 0:00:01\n",
      "   ---------------------------------- ----- 13.4/15.4 MB 2.9 MB/s eta 0:00:01\n",
      "   ----------------------------------- ---- 13.5/15.4 MB 2.9 MB/s eta 0:00:01\n",
      "   ----------------------------------- ---- 13.6/15.4 MB 2.9 MB/s eta 0:00:01\n",
      "   ----------------------------------- ---- 13.7/15.4 MB 2.8 MB/s eta 0:00:01\n",
      "   ----------------------------------- ---- 13.8/15.4 MB 2.8 MB/s eta 0:00:01\n",
      "   ------------------------------------ --- 13.9/15.4 MB 2.8 MB/s eta 0:00:01\n",
      "   ------------------------------------ --- 14.0/15.4 MB 2.8 MB/s eta 0:00:01\n",
      "   ------------------------------------ --- 14.1/15.4 MB 2.8 MB/s eta 0:00:01\n",
      "   ------------------------------------ --- 14.2/15.4 MB 2.8 MB/s eta 0:00:01\n",
      "   ------------------------------------- -- 14.3/15.4 MB 2.8 MB/s eta 0:00:01\n",
      "   ------------------------------------- -- 14.4/15.4 MB 2.8 MB/s eta 0:00:01\n",
      "   ------------------------------------- -- 14.5/15.4 MB 2.8 MB/s eta 0:00:01\n",
      "   ------------------------------------- -- 14.6/15.4 MB 2.8 MB/s eta 0:00:01\n",
      "   -------------------------------------- - 14.7/15.4 MB 2.7 MB/s eta 0:00:01\n",
      "   -------------------------------------- - 14.8/15.4 MB 2.7 MB/s eta 0:00:01\n",
      "   -------------------------------------- - 14.9/15.4 MB 2.7 MB/s eta 0:00:01\n",
      "   ---------------------------------------  15.0/15.4 MB 2.6 MB/s eta 0:00:01\n",
      "   ---------------------------------------  15.1/15.4 MB 2.6 MB/s eta 0:00:01\n",
      "   ---------------------------------------  15.3/15.4 MB 2.6 MB/s eta 0:00:01\n",
      "   ---------------------------------------  15.4/15.4 MB 2.6 MB/s eta 0:00:01\n",
      "   ---------------------------------------  15.4/15.4 MB 2.6 MB/s eta 0:00:01\n",
      "   ---------------------------------------- 15.4/15.4 MB 2.6 MB/s eta 0:00:00\n",
      "Installing collected packages: mysql-connector-python\n",
      "Successfully installed mysql-connector-python-8.3.0\n"
     ]
    }
   ],
   "source": [
    "!pip install mysql-connector-python"
   ]
  },
  {
   "cell_type": "code",
   "execution_count": 2,
   "id": "780e4cf5",
   "metadata": {},
   "outputs": [],
   "source": [
    "import mysql.connector as conn"
   ]
  },
  {
   "cell_type": "code",
   "execution_count": 3,
   "id": "a76408f3",
   "metadata": {},
   "outputs": [
    {
     "data": {
      "text/plain": [
       "'8.3.0'"
      ]
     },
     "execution_count": 3,
     "metadata": {},
     "output_type": "execute_result"
    }
   ],
   "source": [
    "conn. __version__"
   ]
  },
  {
   "cell_type": "code",
   "execution_count": 4,
   "id": "dadbcaa0",
   "metadata": {},
   "outputs": [],
   "source": [
    "mydb = conn.connect(host = \"localhost\", user = \"root\", passwd = \"*ArNatansh14687#\")"
   ]
  },
  {
   "cell_type": "code",
   "execution_count": 5,
   "id": "43158041",
   "metadata": {},
   "outputs": [
    {
     "data": {
      "text/plain": [
       "<mysql.connector.connection_cext.CMySQLConnection at 0x20312fc9690>"
      ]
     },
     "execution_count": 5,
     "metadata": {},
     "output_type": "execute_result"
    }
   ],
   "source": [
    "mydb"
   ]
  },
  {
   "cell_type": "code",
   "execution_count": 8,
   "id": "1cd95445",
   "metadata": {},
   "outputs": [],
   "source": [
    "cursor = mydb.cursor()"
   ]
  },
  {
   "cell_type": "code",
   "execution_count": 9,
   "id": "8b3b7061",
   "metadata": {},
   "outputs": [],
   "source": [
    "cursor.execute(\"show databases\")"
   ]
  },
  {
   "cell_type": "code",
   "execution_count": 10,
   "id": "1542b14b",
   "metadata": {},
   "outputs": [
    {
     "data": {
      "text/plain": [
       "[('information_schema',),\n",
       " ('mysql',),\n",
       " ('passengers_data',),\n",
       " ('performance_schema',),\n",
       " ('pw',),\n",
       " ('question',),\n",
       " ('sys',),\n",
       " ('testdb',)]"
      ]
     },
     "execution_count": 10,
     "metadata": {},
     "output_type": "execute_result"
    }
   ],
   "source": [
    "cursor.fetchall()"
   ]
  },
  {
   "cell_type": "code",
   "execution_count": 12,
   "id": "2a7d8381",
   "metadata": {},
   "outputs": [],
   "source": [
    "cursor = mydb.cursor()"
   ]
  },
  {
   "cell_type": "code",
   "execution_count": 13,
   "id": "bd61e1d3",
   "metadata": {},
   "outputs": [],
   "source": [
    "cursor.execute(\"create database dbPanda\")"
   ]
  },
  {
   "cell_type": "code",
   "execution_count": 14,
   "id": "e1a8e974",
   "metadata": {},
   "outputs": [],
   "source": [
    "cursor.execute(\"use dbPanda\")"
   ]
  },
  {
   "cell_type": "code",
   "execution_count": 17,
   "id": "7f7e369e",
   "metadata": {},
   "outputs": [
    {
     "ename": "ProgrammingError",
     "evalue": "1050 (42S01): Table 'test1' already exists",
     "output_type": "error",
     "traceback": [
      "\u001b[1;31m---------------------------------------------------------------------------\u001b[0m",
      "\u001b[1;31mMySQLInterfaceError\u001b[0m                       Traceback (most recent call last)",
      "File \u001b[1;32m~\\anaconda3\\Lib\\site-packages\\mysql\\connector\\connection_cext.py:661\u001b[0m, in \u001b[0;36mCMySQLConnection.cmd_query\u001b[1;34m(self, query, raw, buffered, raw_as_string)\u001b[0m\n\u001b[0;32m    660\u001b[0m         query \u001b[38;5;241m=\u001b[39m query\u001b[38;5;241m.\u001b[39mencode(\u001b[38;5;124m\"\u001b[39m\u001b[38;5;124mutf-8\u001b[39m\u001b[38;5;124m\"\u001b[39m)\n\u001b[1;32m--> 661\u001b[0m     \u001b[38;5;28mself\u001b[39m\u001b[38;5;241m.\u001b[39m_cmysql\u001b[38;5;241m.\u001b[39mquery(\n\u001b[0;32m    662\u001b[0m         query,\n\u001b[0;32m    663\u001b[0m         raw\u001b[38;5;241m=\u001b[39mraw,\n\u001b[0;32m    664\u001b[0m         buffered\u001b[38;5;241m=\u001b[39mbuffered,\n\u001b[0;32m    665\u001b[0m         raw_as_string\u001b[38;5;241m=\u001b[39mraw_as_string,\n\u001b[0;32m    666\u001b[0m         query_attrs\u001b[38;5;241m=\u001b[39m\u001b[38;5;28mself\u001b[39m\u001b[38;5;241m.\u001b[39mquery_attrs,\n\u001b[0;32m    667\u001b[0m     )\n\u001b[0;32m    668\u001b[0m \u001b[38;5;28;01mexcept\u001b[39;00m MySQLInterfaceError \u001b[38;5;28;01mas\u001b[39;00m err:\n",
      "\u001b[1;31mMySQLInterfaceError\u001b[0m: Table 'test1' already exists",
      "\nThe above exception was the direct cause of the following exception:\n",
      "\u001b[1;31mProgrammingError\u001b[0m                          Traceback (most recent call last)",
      "Cell \u001b[1;32mIn[17], line 1\u001b[0m\n\u001b[1;32m----> 1\u001b[0m cursor\u001b[38;5;241m.\u001b[39mexecute(\u001b[38;5;124m\"\u001b[39m\u001b[38;5;124mcreate table test1(studentid int, firstname varchar(100), lastname varchar(100), regid int,classname varchar(100))\u001b[39m\u001b[38;5;124m\"\u001b[39m)\n",
      "File \u001b[1;32m~\\anaconda3\\Lib\\site-packages\\mysql\\connector\\cursor_cext.py:374\u001b[0m, in \u001b[0;36mCMySQLCursor.execute\u001b[1;34m(self, operation, params, multi)\u001b[0m\n\u001b[0;32m    369\u001b[0m             \u001b[38;5;28;01mraise\u001b[39;00m ProgrammingError(\n\u001b[0;32m    370\u001b[0m                 \u001b[38;5;124m\"\u001b[39m\u001b[38;5;124mNot all parameters were used in the SQL statement\u001b[39m\u001b[38;5;124m\"\u001b[39m\n\u001b[0;32m    371\u001b[0m             )\n\u001b[0;32m    373\u001b[0m \u001b[38;5;28;01mtry\u001b[39;00m:\n\u001b[1;32m--> 374\u001b[0m     result \u001b[38;5;241m=\u001b[39m \u001b[38;5;28mself\u001b[39m\u001b[38;5;241m.\u001b[39m_cnx\u001b[38;5;241m.\u001b[39mcmd_query(\n\u001b[0;32m    375\u001b[0m         stmt,\n\u001b[0;32m    376\u001b[0m         raw\u001b[38;5;241m=\u001b[39m\u001b[38;5;28mself\u001b[39m\u001b[38;5;241m.\u001b[39m_raw,\n\u001b[0;32m    377\u001b[0m         buffered\u001b[38;5;241m=\u001b[39m\u001b[38;5;28mself\u001b[39m\u001b[38;5;241m.\u001b[39m_buffered,\n\u001b[0;32m    378\u001b[0m         raw_as_string\u001b[38;5;241m=\u001b[39m\u001b[38;5;28mself\u001b[39m\u001b[38;5;241m.\u001b[39m_raw_as_string,\n\u001b[0;32m    379\u001b[0m     )\n\u001b[0;32m    380\u001b[0m \u001b[38;5;28;01mexcept\u001b[39;00m MySQLInterfaceError \u001b[38;5;28;01mas\u001b[39;00m err:\n\u001b[0;32m    381\u001b[0m     \u001b[38;5;28;01mraise\u001b[39;00m get_mysql_exception(\n\u001b[0;32m    382\u001b[0m         msg\u001b[38;5;241m=\u001b[39merr\u001b[38;5;241m.\u001b[39mmsg, errno\u001b[38;5;241m=\u001b[39merr\u001b[38;5;241m.\u001b[39merrno, sqlstate\u001b[38;5;241m=\u001b[39merr\u001b[38;5;241m.\u001b[39msqlstate\n\u001b[0;32m    383\u001b[0m     ) \u001b[38;5;28;01mfrom\u001b[39;00m \u001b[38;5;21;01merr\u001b[39;00m\n",
      "File \u001b[1;32m~\\anaconda3\\Lib\\site-packages\\mysql\\connector\\opentelemetry\\context_propagation.py:74\u001b[0m, in \u001b[0;36mwith_context_propagation.<locals>.wrapper\u001b[1;34m(cnx, *args, **kwargs)\u001b[0m\n\u001b[0;32m     72\u001b[0m \u001b[38;5;250m\u001b[39m\u001b[38;5;124;03m\"\"\"Context propagation decorator.\"\"\"\u001b[39;00m\n\u001b[0;32m     73\u001b[0m \u001b[38;5;28;01mif\u001b[39;00m \u001b[38;5;129;01mnot\u001b[39;00m OTEL_ENABLED \u001b[38;5;129;01mor\u001b[39;00m \u001b[38;5;129;01mnot\u001b[39;00m cnx\u001b[38;5;241m.\u001b[39motel_context_propagation:\n\u001b[1;32m---> 74\u001b[0m     \u001b[38;5;28;01mreturn\u001b[39;00m method(cnx, \u001b[38;5;241m*\u001b[39margs, \u001b[38;5;241m*\u001b[39m\u001b[38;5;241m*\u001b[39mkwargs)\n\u001b[0;32m     76\u001b[0m current_span \u001b[38;5;241m=\u001b[39m trace\u001b[38;5;241m.\u001b[39mget_current_span()\n\u001b[0;32m     77\u001b[0m tp_header \u001b[38;5;241m=\u001b[39m \u001b[38;5;28;01mNone\u001b[39;00m\n",
      "File \u001b[1;32m~\\anaconda3\\Lib\\site-packages\\mysql\\connector\\connection_cext.py:669\u001b[0m, in \u001b[0;36mCMySQLConnection.cmd_query\u001b[1;34m(self, query, raw, buffered, raw_as_string)\u001b[0m\n\u001b[0;32m    661\u001b[0m     \u001b[38;5;28mself\u001b[39m\u001b[38;5;241m.\u001b[39m_cmysql\u001b[38;5;241m.\u001b[39mquery(\n\u001b[0;32m    662\u001b[0m         query,\n\u001b[0;32m    663\u001b[0m         raw\u001b[38;5;241m=\u001b[39mraw,\n\u001b[1;32m   (...)\u001b[0m\n\u001b[0;32m    666\u001b[0m         query_attrs\u001b[38;5;241m=\u001b[39m\u001b[38;5;28mself\u001b[39m\u001b[38;5;241m.\u001b[39mquery_attrs,\n\u001b[0;32m    667\u001b[0m     )\n\u001b[0;32m    668\u001b[0m \u001b[38;5;28;01mexcept\u001b[39;00m MySQLInterfaceError \u001b[38;5;28;01mas\u001b[39;00m err:\n\u001b[1;32m--> 669\u001b[0m     \u001b[38;5;28;01mraise\u001b[39;00m get_mysql_exception(\n\u001b[0;32m    670\u001b[0m         err\u001b[38;5;241m.\u001b[39merrno, msg\u001b[38;5;241m=\u001b[39merr\u001b[38;5;241m.\u001b[39mmsg, sqlstate\u001b[38;5;241m=\u001b[39merr\u001b[38;5;241m.\u001b[39msqlstate\n\u001b[0;32m    671\u001b[0m     ) \u001b[38;5;28;01mfrom\u001b[39;00m \u001b[38;5;21;01merr\u001b[39;00m\n\u001b[0;32m    672\u001b[0m \u001b[38;5;28;01mexcept\u001b[39;00m \u001b[38;5;167;01mAttributeError\u001b[39;00m \u001b[38;5;28;01mas\u001b[39;00m err:\n\u001b[0;32m    673\u001b[0m     addr \u001b[38;5;241m=\u001b[39m (\n\u001b[0;32m    674\u001b[0m         \u001b[38;5;28mself\u001b[39m\u001b[38;5;241m.\u001b[39m_unix_socket \u001b[38;5;28;01mif\u001b[39;00m \u001b[38;5;28mself\u001b[39m\u001b[38;5;241m.\u001b[39m_unix_socket \u001b[38;5;28;01melse\u001b[39;00m \u001b[38;5;124mf\u001b[39m\u001b[38;5;124m\"\u001b[39m\u001b[38;5;132;01m{\u001b[39;00m\u001b[38;5;28mself\u001b[39m\u001b[38;5;241m.\u001b[39m_host\u001b[38;5;132;01m}\u001b[39;00m\u001b[38;5;124m:\u001b[39m\u001b[38;5;132;01m{\u001b[39;00m\u001b[38;5;28mself\u001b[39m\u001b[38;5;241m.\u001b[39m_port\u001b[38;5;132;01m}\u001b[39;00m\u001b[38;5;124m\"\u001b[39m\n\u001b[0;32m    675\u001b[0m     )\n",
      "\u001b[1;31mProgrammingError\u001b[0m: 1050 (42S01): Table 'test1' already exists"
     ]
    }
   ],
   "source": [
    "cursor.execute(\"create table test1(studentid int, firstname varchar(100), lastname varchar(100), regid int,classname varchar(100))\")"
   ]
  },
  {
   "cell_type": "code",
   "execution_count": 20,
   "id": "6e314a48",
   "metadata": {},
   "outputs": [],
   "source": [
    "cursor.execute(\"show tables\")"
   ]
  },
  {
   "cell_type": "code",
   "execution_count": 21,
   "id": "46d6ab1d",
   "metadata": {},
   "outputs": [
    {
     "data": {
      "text/plain": [
       "[('test',), ('test1',)]"
      ]
     },
     "execution_count": 21,
     "metadata": {},
     "output_type": "execute_result"
    }
   ],
   "source": [
    "cursor.fetchall()"
   ]
  },
  {
   "cell_type": "code",
   "execution_count": 25,
   "id": "fe371b6f",
   "metadata": {},
   "outputs": [],
   "source": [
    "cursor.execute(\"insert into dbPanda.test1 values(1,'Dushyant','Sharma',1212,'Web-Dev'),(2,'Natansh','Khurana',1213,'Web-Dev'),(3,'Navneet','Sharma',1214,'Data-Science'),(4,'Rohit','Makani',1215,'Data-Science')\")"
   ]
  },
  {
   "cell_type": "code",
   "execution_count": 26,
   "id": "f5ec7056",
   "metadata": {},
   "outputs": [],
   "source": [
    "cursor.execute(\"select * from test1\")"
   ]
  },
  {
   "cell_type": "code",
   "execution_count": 27,
   "id": "b513ec31",
   "metadata": {},
   "outputs": [
    {
     "data": {
      "text/plain": [
       "[(1, 'Dushyant', 'Sharma', 1212, 'Web-Dev'),\n",
       " (2, 'Natansh', 'Khurana', 1213, 'Web-Dev'),\n",
       " (3, 'Navneet', 'Sharma', 1214, 'Data-Science'),\n",
       " (4, 'Rohit', 'Makani', 1215, 'Data-Science')]"
      ]
     },
     "execution_count": 27,
     "metadata": {},
     "output_type": "execute_result"
    }
   ],
   "source": [
    "cursor.fetchall()"
   ]
  },
  {
   "cell_type": "code",
   "execution_count": 28,
   "id": "5843b73d",
   "metadata": {},
   "outputs": [],
   "source": [
    "mydb.commit()"
   ]
  },
  {
   "cell_type": "code",
   "execution_count": null,
   "id": "088898aa",
   "metadata": {},
   "outputs": [],
   "source": []
  }
 ],
 "metadata": {
  "kernelspec": {
   "display_name": "Python 3 (ipykernel)",
   "language": "python",
   "name": "python3"
  },
  "language_info": {
   "codemirror_mode": {
    "name": "ipython",
    "version": 3
   },
   "file_extension": ".py",
   "mimetype": "text/x-python",
   "name": "python",
   "nbconvert_exporter": "python",
   "pygments_lexer": "ipython3",
   "version": "3.11.5"
  }
 },
 "nbformat": 4,
 "nbformat_minor": 5
}
