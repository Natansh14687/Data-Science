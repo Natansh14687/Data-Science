{
 "cells": [
  {
   "cell_type": "code",
   "execution_count": 1,
   "id": "28b82380",
   "metadata": {},
   "outputs": [],
   "source": [
    "data1 = open(\"data.txt\")"
   ]
  },
  {
   "cell_type": "code",
   "execution_count": 2,
   "id": "6dd90f55",
   "metadata": {},
   "outputs": [],
   "source": [
    "read_data = data1.read()"
   ]
  },
  {
   "cell_type": "code",
   "execution_count": 3,
   "id": "b0eb8987",
   "metadata": {},
   "outputs": [
    {
     "name": "stdout",
     "output_type": "stream",
     "text": [
      "I'm Natansh\n",
      "Now, This is I'm\n"
     ]
    }
   ],
   "source": [
    "print(read_data)"
   ]
  },
  {
   "cell_type": "code",
   "execution_count": null,
   "id": "b80d56dc",
   "metadata": {},
   "outputs": [],
   "source": []
  },
  {
   "cell_type": "code",
   "execution_count": 4,
   "id": "50b27451",
   "metadata": {},
   "outputs": [],
   "source": [
    "data2 = open(\"data.txt\", \"w\")"
   ]
  },
  {
   "cell_type": "code",
   "execution_count": 5,
   "id": "5571f07a",
   "metadata": {},
   "outputs": [
    {
     "data": {
      "text/plain": [
       "12"
      ]
     },
     "execution_count": 5,
     "metadata": {},
     "output_type": "execute_result"
    }
   ],
   "source": [
    "data2.write(\"I have done some changes into this file.\\n\")\n",
    "data2.write(\"So, be alert\")"
   ]
  },
  {
   "cell_type": "code",
   "execution_count": 8,
   "id": "3be1baee",
   "metadata": {},
   "outputs": [
    {
     "name": "stdout",
     "output_type": "stream",
     "text": [
      "I have done some changes into this file.\n",
      "So, be alert\n"
     ]
    }
   ],
   "source": [
    "data2 = open(\"data.txt\")\n",
    "write_data = data2.read()\n",
    "print(write_data)"
   ]
  },
  {
   "cell_type": "code",
   "execution_count": 9,
   "id": "df2e4984",
   "metadata": {},
   "outputs": [
    {
     "name": "stdout",
     "output_type": "stream",
     "text": [
      "I'm Natansh\n",
      "Now, This is I'm\n"
     ]
    }
   ],
   "source": [
    "print(read_data)"
   ]
  },
  {
   "cell_type": "code",
   "execution_count": 2,
   "id": "6841266b",
   "metadata": {},
   "outputs": [
    {
     "name": "stdout",
     "output_type": "stream",
     "text": [
      "No,Excuses\n",
      "okay\n"
     ]
    }
   ],
   "source": [
    "data1 = open(\"data.txt\", \"w\")\n",
    "data1.write(\"No,Excuses\\n\")\n",
    "data1.write(\"okay\")\n",
    "data1 = open(\"data.txt\")\n",
    "read_data = data1.read()\n",
    "print(read_data)\n",
    "data1.close()"
   ]
  },
  {
   "cell_type": "code",
   "execution_count": null,
   "id": "b1c3200e",
   "metadata": {},
   "outputs": [],
   "source": [
    "with open(\"data.txt\",\"r\") as data3:\n",
    "    read_content = data3.read()\n",
    "    print(read_content)"
   ]
  },
  {
   "cell_type": "code",
   "execution_count": null,
   "id": "cb9cf680",
   "metadata": {},
   "outputs": [],
   "source": []
  },
  {
   "cell_type": "code",
   "execution_count": null,
   "id": "3262b924",
   "metadata": {},
   "outputs": [],
   "source": []
  },
  {
   "cell_type": "code",
   "execution_count": null,
   "id": "4c889d3b",
   "metadata": {},
   "outputs": [],
   "source": []
  }
 ],
 "metadata": {
  "kernelspec": {
   "display_name": "Python 3 (ipykernel)",
   "language": "python",
   "name": "python3"
  },
  "language_info": {
   "codemirror_mode": {
    "name": "ipython",
    "version": 3
   },
   "file_extension": ".py",
   "mimetype": "text/x-python",
   "name": "python",
   "nbconvert_exporter": "python",
   "pygments_lexer": "ipython3",
   "version": "3.11.5"
  }
 },
 "nbformat": 4,
 "nbformat_minor": 5
}
